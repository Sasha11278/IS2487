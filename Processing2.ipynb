{
  "nbformat": 4,
  "nbformat_minor": 0,
  "metadata": {
    "colab": {
      "provenance": [],
      "authorship_tag": "ABX9TyMaz7MXHuFkE8MfivYntGuK",
      "include_colab_link": true
    },
    "kernelspec": {
      "name": "python3",
      "display_name": "Python 3"
    },
    "language_info": {
      "name": "python"
    }
  },
  "cells": [
    {
      "cell_type": "markdown",
      "metadata": {
        "id": "view-in-github",
        "colab_type": "text"
      },
      "source": [
        "<a href=\"https://colab.research.google.com/github/Sasha11278/IS2487/blob/files/Processing2.ipynb\" target=\"_parent\"><img src=\"https://colab.research.google.com/assets/colab-badge.svg\" alt=\"Open In Colab\"/></a>"
      ]
    },
    {
      "cell_type": "markdown",
      "source": [
        "In your notebook, in the first Code cell, create a multi-line comment that contains the following information. Be sure each of the following items is on separate lines within the multi-line comment:\n",
        "Your full name\n",
        "The date\n",
        "A multi-line (several-sentence) answer to the following questions from your reading of Chapter 2:\n",
        "What is the difference between a built-in function and a programmer-defined function?\n",
        "What is the difference between a void function and a value function?\n"
      ],
      "metadata": {
        "id": "RaCvue9ZDcKF"
      }
    },
    {
      "cell_type": "code",
      "execution_count": null,
      "metadata": {
        "id": "MttcA8M9DZr6"
      },
      "outputs": [],
      "source": [
        "# Alexandra Cox\n",
        "# 2/29/24\n",
        "\"\"\"\n",
        "The difference between a built-in function and a program-defined function:\n",
        "A built in funtion is a funtion that is pre-defined and readily available to use.\n",
        "A program-definied funtion is a function that is determined by the programmer to\n",
        "perform a specific task.\n",
        "\n",
        "Example of builit in function: # Built-in function\n",
        "string = \"Hello, world!\"\n",
        "length = len(string)\n",
        "print(\"Length of the string:\", length)\n",
        "\n",
        "Example of a programer defined function:\n",
        "# Programmer-defined function\n",
        "def greet(name):\n",
        "    print(\"Hello,\", name)\n",
        "\n",
        "# Calling the programmer-defined function\n",
        "greet(\"Alice\")\n",
        "\n",
        "\n",
        "\n",
        "The difference betweeen a void funtion and a value function:\n",
        "Both funtions have parameters however the way to tell thedifference bwetween the\n",
        "void funtion and value funtion is if a value is returned. A void funtion does not\n",
        "return a value whereas a value function does.\n",
        "\n",
        "Example of a void function:\n",
        "# Void function\n",
        "def greet_void(name):\n",
        "    print(\"Hello,\", name)\n",
        "\n",
        "# Calling the void function\n",
        "greet_void(\"Bob\")\n",
        "\n",
        "Example of a value function:\n",
        "# Value function\n",
        "def add(a, b):\n",
        "    return a + b\n",
        "\n",
        "# Calling the value function\n",
        "result = add(3, 5)\n",
        "print(\"Result of addition:\", result)\n",
        "\n",
        "\"\"\"\n"
      ]
    },
    {
      "cell_type": "markdown",
      "source": [
        "Problem 1:\n",
        "Add a new Code cell in your notebook.\n",
        "Write a single-line comment at the top of the cell with the text: Problem 1\n",
        "Write the code to create a list that contains the following integers:\n",
        "23, 56, 19, 52, 87, 88, 50, 34, 22, 61, 52, 43, 25, 76, 77, 94\n",
        "Then, use built-in functions to print a well-formatted summary report of these numbers. This is somewhat subjective; \"well-formatted\" in this context means not just a list of the answers; you can be creative with this part. It should be a report format that would be informative and understandable to any report reader.\n",
        "Your summary should answer the following questions:\n",
        "How many numbers are in the list?\n",
        "What is the maximum value in the list?\n",
        "What is the minimum value in the list?\n",
        "What is the total of all of the numbers when added together?\n",
        "Run your code to ensure everything works so far.\n"
      ],
      "metadata": {
        "id": "umWFDtRhDiI5"
      }
    },
    {
      "cell_type": "code",
      "source": [
        "# Problem One\n",
        "# list of integers:\n",
        "lst= { 23, 56, 19, 52, 87, 88, 50, 34, 22, 61, 52, 43, 25, 76, 77, 94 }\n",
        "print(\"Summary Report regarding the list:\")\n",
        "print(\"The number of numbersr in the list is:\", len(lst))\n",
        "print(\"The maximum value in the list is:\", max(lst))\n",
        "print(\"The minimum value in the list is:\" , min(lst))\n",
        "print(\"The total of all the numbers in the list is:\", sum(lst))"
      ],
      "metadata": {
        "colab": {
          "base_uri": "https://localhost:8080/"
        },
        "id": "CB1b_I8QDlfJ",
        "outputId": "551c8d0e-3d16-44c5-aa33-1d2e65cbb0e4"
      },
      "execution_count": null,
      "outputs": [
        {
          "output_type": "stream",
          "name": "stdout",
          "text": [
            "Summary Report regarding the list:\n",
            "The number of numbersr in the list is: 15\n",
            "The maximum value in the list is: 94\n",
            "The minimum value in the list is: 19\n",
            "The total of all the numbers in the list is: 807\n"
          ]
        }
      ]
    },
    {
      "cell_type": "markdown",
      "source": [
        "Problem 2:\n",
        "Add a new Code cell in your notebook.\n",
        "Write a single-line comment at the top of the cell with the text: Problem 2\n",
        "Write a programmer-defined function that accepts two string parameters: a first name and a last name.\n",
        "Name your function something that indicates its purpose.\n",
        "Inside your function, write the code to do the following:\n",
        "Print the full name, that is, the first name a space, and then the last name, like this:\n",
        "Bob Smith\n",
        "Then, print the last name, a comma and space, and then the first name, like this:\n",
        "Smith, Bob\n",
        "Then, print the entire name all in upper case characters, like this:\n",
        "BOB SMITH\n",
        "Then, using a loop, print each character of the full name with a space between each, like this:\n",
        "B o b  S m i t h\n",
        "Then, write your main program code as follows:\n",
        "Prompt the user for a first name and store it in a variable.\n",
        "Prompt the user for the last name and store it in another variable.\n",
        "Call your programmer-defined function and pass it the two variables you created for the first and last name.\n",
        "Run your code to ensure everything works so far."
      ],
      "metadata": {
        "id": "MySORXYsDpMe"
      }
    },
    {
      "cell_type": "code",
      "source": [
        " # Problem 2\n",
        "\n",
        "# Programmer-defined function to manipulate names\n",
        "def dif_names(first_name, last_name):\n",
        "    #Print first name space last name\n",
        "    print(\"Full Name:\", first_name, last_name)\n",
        "\n",
        "    #Print last name first\n",
        "    print(\"Last Name, First Name:\", last_name + \", \" + first_name)\n",
        "\n",
        "    #Print entire name in uppercase\n",
        "    print(\"Entire Name in Uppercase:\", (first_name + \" \" + last_name).upper())\n",
        "\n",
        "    #Print each character of the full name with a space between each\n",
        "    print(\"Each character of the name with a space in between:\")\n",
        "    for char in first_name + \" \" + last_name:\n",
        "        print(char, end=\" \")\n",
        "\n",
        "# Main program\n",
        "first_name = input(\"Enter your first name: \")\n",
        "last_name = input(\"Enter your last name: \")\n",
        "\n",
        "# Call the programmer-defined function\n",
        "dif_names(first_name, last_name)"
      ],
      "metadata": {
        "colab": {
          "base_uri": "https://localhost:8080/"
        },
        "id": "gkQyYL6oDrxg",
        "outputId": "01779acc-33c9-4cf8-cbc3-72539d640097"
      },
      "execution_count": null,
      "outputs": [
        {
          "output_type": "stream",
          "name": "stdout",
          "text": [
            "Enter your first name: Bob\n",
            "Enter your last name: Smith\n",
            "Full Name: Bob Smith\n",
            "Last Name, First Name: Smith, Bob\n",
            "Entire Name in Uppercase: BOB SMITH\n",
            "Each character of the name with a space in between:\n",
            "B o b   S m i t h "
          ]
        }
      ]
    },
    {
      "cell_type": "markdown",
      "source": [
        "Problem 3:\n",
        "Add a new Code cell in your notebook.\n",
        "Write a single-line comment at the top of the cell with the text: Problem 3\n",
        "Write the code to do the following:\n",
        "Import the random module\n",
        "Write the code for a programmer-defined function that \"rolls\" a 6-sided dice that is, returns a random integer between the values 1 and 6.\n",
        "In your main program, create a variable called die and call your dice roll function to set the value to a \"dice roll.\"\n",
        "Prompt the user to guess the value of the rolled die.\n",
        "Write a while loop to give them 3 guesses for the correct answer.\n",
        "If they guess it within the 3 tries, congratulate them and break out of the loop and end.\n",
        "If they do not guess it correctly after 3 attempts, let them know they lost and end.\n",
        "Run your code to ensure everything works so far.\n",
        "Run your notebook and check your output."
      ],
      "metadata": {
        "id": "LfGk868vDtLl"
      }
    },
    {
      "cell_type": "code",
      "source": [
        "# Problem 3\n",
        "\n",
        "import random\n",
        "\n",
        "# Programmer-defined function to roll a 6-sided dice\n",
        "def roll_dice():\n",
        "    return random.randint(1, 6)\n",
        "\n",
        "# Main program\n",
        "# Create a variable to hold the dice roll\n",
        "die = roll_dice()\n",
        "\n",
        "# Prompt the user to guess the value of the rolled die\n",
        "print(\"Guess the value of the rolled die (between 1 and 6).\")\n",
        "attempts = 3  # Number of attempts allowed\n",
        "\n",
        "# While loop to give the user 3 guesses\n",
        "while attempts > 0:\n",
        "    guess = int(input(\"Enter your guess: \"))\n",
        "\n",
        "    if guess == die:\n",
        "        print(\"Congratulations! You guessed correctly.\")\n",
        "        break\n",
        "    else:\n",
        "        attempts -= 1\n",
        "        if attempts > 0:\n",
        "            print(\"Incorrect guess. Try again. You have\", attempts, \"attempts remaining.\")\n",
        "        else:\n",
        "            print(\"Sorry, you've used all your attempts. The correct answer was:\", die)\n",
        "            break\n",
        "\n"
      ],
      "metadata": {
        "colab": {
          "base_uri": "https://localhost:8080/"
        },
        "id": "AdUa8364R7Bi",
        "outputId": "69541bcb-1290-4dfb-af1e-291c7b01a38c"
      },
      "execution_count": null,
      "outputs": [
        {
          "output_type": "stream",
          "name": "stdout",
          "text": [
            "Guess the value of the rolled die (between 1 and 6).\n",
            "Enter your guess: 2\n",
            "Incorrect guess. Try again. You have 2 attempts remaining.\n",
            "Enter your guess: 5\n",
            "Incorrect guess. Try again. You have 1 attempts remaining.\n",
            "Enter your guess: 3\n",
            "Sorry, you've used all your attempts. The correct answer was: 4\n"
          ]
        }
      ]
    },
    {
      "cell_type": "code",
      "source": [
        "# Problem 3 with explanations of what each line does so that my future self can reference this.\n",
        "\n",
        "import random  # Importing the random module to generate random numbers\n",
        "\n",
        "# Programmer-defined function to roll a 6-sided dice\n",
        "def roll_dice():\n",
        "    return random.randint(1, 6)  # Returns a random integer between 1 and 6\n",
        "\n",
        "# Main program\n",
        "# Create a variable to hold the dice roll\n",
        "die = roll_dice()  # Calling the roll_dice() function and storing the result in the variable 'die'\n",
        "\n",
        "# Prompt the user to guess the value of the rolled die\n",
        "print(\"Guess the value of the rolled die (between 1 and 6).\")\n",
        "attempts = 3  # Number of attempts allowed\n",
        "\n",
        "# While loop to give the user 3 guesses\n",
        "while attempts > 0:\n",
        "    guess = int(input(\"Enter your guess: \"))  # Prompting the user to enter their guess and converting it to an integer\n",
        "\n",
        "    if guess == die:  # Checking if the guess is correct\n",
        "        print(\"Congratulations! You guessed correctly.\")\n",
        "        break  # Exiting the loop if the guess is correct\n",
        "    else:\n",
        "        attempts -= 1  # Decreasing the number of attempts left\n",
        "        if attempts > 0:\n",
        "            print(\"Incorrect guess. Try again. You have\", attempts, \"attempts remaining.\")  # Informing the user about incorrect guess and the remaining attempts\n",
        "        else:\n",
        "            print(\"Sorry, you've used all your attempts. The correct answer was:\", die)  # Informing the user about running out of attempts and revealing the correct answer\n",
        "            break  # Exiting the loop if the user runs out of attempts\n"
      ],
      "metadata": {
        "id": "si5C97b0SY3f"
      },
      "execution_count": null,
      "outputs": []
    }
  ]
}