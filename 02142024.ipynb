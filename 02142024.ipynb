{
  "nbformat": 4,
  "nbformat_minor": 0,
  "metadata": {
    "colab": {
      "provenance": [],
      "authorship_tag": "ABX9TyPzY8q2rmHwy/7VgVrbj0+o",
      "include_colab_link": true
    },
    "kernelspec": {
      "name": "python3",
      "display_name": "Python 3"
    },
    "language_info": {
      "name": "python"
    }
  },
  "cells": [
    {
      "cell_type": "markdown",
      "metadata": {
        "id": "view-in-github",
        "colab_type": "text"
      },
      "source": [
        "<a href=\"https://colab.research.google.com/github/Sasha11278/IS2487/blob/main/02142024.ipynb\" target=\"_parent\"><img src=\"https://colab.research.google.com/assets/colab-badge.svg\" alt=\"Open In Colab\"/></a>"
      ]
    },
    {
      "cell_type": "markdown",
      "source": [
        "We went over question 9"
      ],
      "metadata": {
        "id": "cftbOkmcGXD1"
      }
    },
    {
      "cell_type": "code",
      "source": [],
      "metadata": {
        "id": "aMIT1FQGG8Yq"
      },
      "execution_count": null,
      "outputs": []
    },
    {
      "cell_type": "code",
      "execution_count": null,
      "metadata": {
        "id": "ReXrxpBqGT8j"
      },
      "outputs": [],
      "source": [
        " = input(\"Integer between 55 and 71:\")\n",
        "x = int(x)\n",
        "while x < 1 or x > 125:\n",
        "  print(\"Error: Please enter an integer between 55 and 71.\")\n",
        "  x = int(input(\"Integer :\"))\n",
        "print( \"Your integer is\", x)\n"
      ]
    },
    {
      "cell_type": "markdown",
      "source": [
        "We talked about nested loops"
      ],
      "metadata": {
        "id": "rE9jhnLwG84f"
      }
    },
    {
      "cell_type": "code",
      "source": [
        "for i in range(5):\n",
        "  for j in range(5):\n",
        "      print(\"*\", end=\"\")\n",
        "  print()"
      ],
      "metadata": {
        "id": "wds4GQi3G-3h"
      },
      "execution_count": null,
      "outputs": []
    },
    {
      "cell_type": "markdown",
      "source": [
        "We talked about isdigit() function and break."
      ],
      "metadata": {
        "id": "y0lUwCmMHMmX"
      }
    },
    {
      "cell_type": "code",
      "source": [
        "while True:\n",
        "    age = input(\"Please enter your age (1 thru 125): \")\n",
        "    try:\n",
        "        age = int(age)\n",
        "    except:\n",
        "        print('Error: Please use only digits 0 thru 9.')\n",
        "        continue\n",
        "    if age < 1 or age > 125:\n",
        "        print('Error: Valid age range is 1 thru 125.')\n",
        "        continue\n",
        "    break\n",
        "print('Your age is', age, sep=\" \")\n"
      ],
      "metadata": {
        "id": "C96LR_NDHBTN"
      },
      "execution_count": null,
      "outputs": []
    }
  ]
}