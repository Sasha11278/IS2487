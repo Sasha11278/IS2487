{
  "nbformat": 4,
  "nbformat_minor": 0,
  "metadata": {
    "colab": {
      "provenance": [],
      "authorship_tag": "ABX9TyNiij+wSGa8zB70IleZbGXC",
      "include_colab_link": true
    },
    "kernelspec": {
      "name": "python3",
      "display_name": "Python 3"
    },
    "language_info": {
      "name": "python"
    }
  },
  "cells": [
    {
      "cell_type": "markdown",
      "metadata": {
        "id": "view-in-github",
        "colab_type": "text"
      },
      "source": [
        "<a href=\"https://colab.research.google.com/github/Sasha11278/IS2487/blob/main/02212024.ipynb\" target=\"_parent\"><img src=\"https://colab.research.google.com/assets/colab-badge.svg\" alt=\"Open In Colab\"/></a>"
      ]
    },
    {
      "cell_type": "code",
      "execution_count": null,
      "metadata": {
        "colab": {
          "base_uri": "https://localhost:8080/"
        },
        "id": "tbigII1_3i-H",
        "outputId": "5cf873e3-3d7e-43bb-8727-9de6fe6fa417"
      },
      "outputs": [
        {
          "output_type": "stream",
          "name": "stdout",
          "text": [
            "\n",
            "--------------------------------------------------------------------------------\n",
            "S u m m a r y  R e p o r t\n",
            "\n",
            "--------------------------------------------------------------------------------\n"
          ]
        }
      ],
      "source": [
        "# Functions\n",
        "def print_header():\n",
        "    print(\"\\n\" + \"-\" * 80)\n",
        "    print(\"S u m m a r y  R e p o r t\")\n",
        "    print(\"\\n\" + \"-\" * 80)\n",
        "# Main (calling) Program\n",
        "print_header()"
      ]
    },
    {
      "cell_type": "code",
      "source": [
        "# Functions\n",
        "def print_line(print_char, num_chars):\n",
        "    print(print_char * num_chars)\n",
        "# Main (calling) Program\n",
        "print_line(\"-\", 10)\n",
        "print_line(\"~\", 20)\n",
        "print_line(\".\", 40)\n",
        "print_line(\"=\", 80)"
      ],
      "metadata": {
        "colab": {
          "base_uri": "https://localhost:8080/"
        },
        "id": "d9n5Camu6CIi",
        "outputId": "28e37698-48d2-4ff6-8ee8-8c1526ffe923"
      },
      "execution_count": null,
      "outputs": [
        {
          "output_type": "stream",
          "name": "stdout",
          "text": [
            "----------\n",
            "~~~~~~~~~~~~~~~~~~~~\n",
            "........................................\n",
            "================================================================================\n"
          ]
        }
      ]
    },
    {
      "cell_type": "code",
      "source": [
        "# Function\n",
        "def calc_formula(n):\n",
        "    # Formula: n * n**3\n",
        "    ret_value = n * n**3\n",
        "    return ret_value.    # this is not a a void function this is a VALUE FUNCTION\n",
        "# Main (calling) Program\n",
        "formula_value = calc_formula(4)\n",
        "print(\"The result of the formula \"\n",
        "\"calculation is \" + str(formula_value))\n",
        "print(\"We could have put the function \"\n",
        "\"call directly in a print statement \"\n",
        "\"like this: \" + str(calc_formula(4)))"
      ],
      "metadata": {
        "colab": {
          "base_uri": "https://localhost:8080/"
        },
        "id": "5htJ4DIc5u3y",
        "outputId": "13ec4084-58fa-485f-d431-97ada8d376fb"
      },
      "execution_count": null,
      "outputs": [
        {
          "output_type": "stream",
          "name": "stdout",
          "text": [
            "The result of the formula calculation is 256\n",
            "We could have put the function call directly in a print statement like this: 256\n"
          ]
        }
      ]
    },
    {
      "cell_type": "code",
      "source": [
        "print(\"Hi\")\n",
        "print() # print() with nothing it it prints \\n: as seen in this example\n",
        "print(\"Bye\")"
      ],
      "metadata": {
        "colab": {
          "base_uri": "https://localhost:8080/"
        },
        "id": "TNQCpgkC4YFZ",
        "outputId": "9b541706-d5e6-4289-f77a-7c31f273a3bb"
      },
      "execution_count": null,
      "outputs": [
        {
          "output_type": "stream",
          "name": "stdout",
          "text": [
            "Hi\n",
            "\n",
            "Bye\n"
          ]
        }
      ]
    },
    {
      "cell_type": "code",
      "source": [
        "def___():# zero parameters ()\n",
        "  #code block\n",
        "  # this is a void value\n"
      ],
      "metadata": {
        "id": "Msvqpzll7Lbr"
      },
      "execution_count": null,
      "outputs": []
    },
    {
      "cell_type": "code",
      "source": [
        "def ____(x): # one parameter (x)\n",
        "  #code block\n",
        " # this is also a void value\n"
      ],
      "metadata": {
        "id": "dgog5_OS7MU9"
      },
      "execution_count": null,
      "outputs": []
    },
    {
      "cell_type": "code",
      "source": [
        "def___(x,y,z):\n",
        "  #code block with RETURN\n",
        "  #This is not a void value because it has a return.\n",
        "  # not based off of parameters, based off of whetehr or not there is a return\n",
        "  #value"
      ],
      "metadata": {
        "id": "CaK3S4Uc7Mnf"
      },
      "execution_count": null,
      "outputs": []
    },
    {
      "cell_type": "markdown",
      "source": [
        "Best way to understand code is to read other people's code and assign the values we know to the code."
      ],
      "metadata": {
        "id": "AGCBc4JE9R9h"
      }
    },
    {
      "cell_type": "markdown",
      "source": [],
      "metadata": {
        "id": "OWGUyTizAWVR"
      }
    },
    {
      "cell_type": "code",
      "source": [
        "import random\n",
        "rnd = random.randint(1,6)\n",
        "guess = int(input(\"Your Guess:\"))\n",
        "while guess != rnd:\n",
        "  print(\"WRONG!\")\n",
        "  guess = int(input(\"Try again:\"))\n",
        "if guess == rnd:\n",
        "  print(\"Good Guess!\")\n",
        "else:\n",
        "  print(\"Incorrect\")\n",
        "\n"
      ],
      "metadata": {
        "colab": {
          "base_uri": "https://localhost:8080/"
        },
        "id": "sJJrA7gaAhBq",
        "outputId": "2e7b1e49-c12c-4634-cc3b-ca72da08b171"
      },
      "execution_count": null,
      "outputs": [
        {
          "output_type": "stream",
          "name": "stdout",
          "text": [
            "Your Guess:5\n",
            "WRONG!\n",
            "Try again:6\n",
            "WRONG!\n",
            "Try again:3\n",
            "Good Guess!\n"
          ]
        }
      ]
    },
    {
      "cell_type": "code",
      "source": [
        "import random\n",
        "rnd = random.randint(1,6)\n",
        "tries = 2\n",
        "guess = int(input(\"Your Guess:\"))\n",
        "while guess != rnd and tries > 0:\n",
        "  print(\"WRONG!\")\n",
        "  guess = int(input(\"Try again:\"))\n",
        "  tries -= 1"
      ],
      "metadata": {
        "colab": {
          "base_uri": "https://localhost:8080/"
        },
        "id": "SE3bPcEODpGN",
        "outputId": "24678ab6-2e63-43c6-8b35-eef75e6d380a"
      },
      "execution_count": null,
      "outputs": [
        {
          "name": "stdout",
          "output_type": "stream",
          "text": [
            "Your Guess:5\n",
            "WRONG!\n",
            "Try again:3\n",
            "WRONG!\n",
            "Try again:4\n"
          ]
        }
      ]
    }
  ]
}